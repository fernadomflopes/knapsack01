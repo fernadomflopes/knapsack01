{
  "nbformat": 4,
  "nbformat_minor": 0,
  "metadata": {
    "colab": {
      "name": "TF_FUNCAO_IDENTIDADE.ipynb",
      "provenance": [],
      "include_colab_link": true
    },
    "kernelspec": {
      "name": "python3",
      "display_name": "Python 3"
    },
    "accelerator": "GPU"
  },
  "cells": [
    {
      "cell_type": "markdown",
      "metadata": {
        "id": "view-in-github",
        "colab_type": "text"
      },
      "source": [
        "<a href=\"https://colab.research.google.com/github/fernandomflopes/algoritimos/blob/master/TF_FUNCAO_IDENTIDADE.ipynb\" target=\"_parent\"><img src=\"https://colab.research.google.com/assets/colab-badge.svg\" alt=\"Open In Colab\"/></a>"
      ]
    },
    {
      "cell_type": "code",
      "metadata": {
        "id": "X36kW2ZwhxF0",
        "colab_type": "code",
        "colab": {}
      },
      "source": [
        "import numpy as np\n",
        "import tensorflow as tf"
      ],
      "execution_count": 0,
      "outputs": []
    },
    {
      "cell_type": "code",
      "metadata": {
        "id": "-W38oaULhykF",
        "colab_type": "code",
        "colab": {}
      },
      "source": [
        "def model_builder(input_size):\n",
        "    model = tf.keras.models.Sequential()\n",
        "    model.add(tf.keras.layers.Dense(units=1024, activation=\"relu\", input_dim=input_size)) \n",
        "    model.add(tf.keras.layers.Dense(units=512, activation=\"relu\")) \n",
        "    model.add(tf.keras.layers.Dense(units=1, activation=\"linear\"))\n",
        "    model.add(tf.keras.layers.Dense(units=512, activation=\"relu\"))\n",
        "    model.add(tf.keras.layers.Dense(units=1024, activation=\"relu\")) \n",
        "    model.add(tf.keras.layers.Dense(units=input_size, activation=\"linear\"))\n",
        "\n",
        "    model.compile(loss=\"mse\", optimizer=tf.keras.optimizers.Adam(lr=0.001)) \n",
        "    return model"
      ],
      "execution_count": 0,
      "outputs": []
    },
    {
      "cell_type": "code",
      "metadata": {
        "id": "4uo4XIIviBxM",
        "colab_type": "code",
        "colab": {}
      },
      "source": [
        "model = model_builder(1)"
      ],
      "execution_count": 0,
      "outputs": []
    },
    {
      "cell_type": "code",
      "metadata": {
        "id": "UuqyrdqZiW3u",
        "colab_type": "code",
        "colab": {
          "base_uri": "https://localhost:8080/",
          "height": 380
        },
        "outputId": "b3da52e1-4968-4945-aa41-73dc5c6abb66"
      },
      "source": [
        "dataset = [[np.array([i]) for i in range(10)]]\n",
        "model.fit(dataset, dataset, epochs=10, batch_size=1)"
      ],
      "execution_count": 88,
      "outputs": [
        {
          "output_type": "stream",
          "text": [
            "Epoch 1/10\n",
            "10/10 [==============================] - 0s 6ms/sample - loss: 6.7573\n",
            "Epoch 2/10\n",
            "10/10 [==============================] - 0s 5ms/sample - loss: 2.7675\n",
            "Epoch 3/10\n",
            "10/10 [==============================] - 0s 5ms/sample - loss: 2.0190\n",
            "Epoch 4/10\n",
            "10/10 [==============================] - 0s 5ms/sample - loss: 1.4531\n",
            "Epoch 5/10\n",
            "10/10 [==============================] - 0s 5ms/sample - loss: 0.3966\n",
            "Epoch 6/10\n",
            "10/10 [==============================] - 0s 6ms/sample - loss: 0.0370\n",
            "Epoch 7/10\n",
            "10/10 [==============================] - 0s 5ms/sample - loss: 0.0147\n",
            "Epoch 8/10\n",
            "10/10 [==============================] - 0s 5ms/sample - loss: 0.0040\n",
            "Epoch 9/10\n",
            "10/10 [==============================] - 0s 5ms/sample - loss: 0.0063\n",
            "Epoch 10/10\n",
            "10/10 [==============================] - 0s 5ms/sample - loss: 0.0023\n"
          ],
          "name": "stdout"
        },
        {
          "output_type": "execute_result",
          "data": {
            "text/plain": [
              "<tensorflow.python.keras.callbacks.History at 0x7fb42d3fdda0>"
            ]
          },
          "metadata": {
            "tags": []
          },
          "execution_count": 88
        }
      ]
    },
    {
      "cell_type": "code",
      "metadata": {
        "id": "QoJymyCVia6d",
        "colab_type": "code",
        "colab": {
          "base_uri": "https://localhost:8080/",
          "height": 35
        },
        "outputId": "d43d30fe-1695-49b5-8c0a-50b41838f143"
      },
      "source": [
        "model.predict([1])"
      ],
      "execution_count": 92,
      "outputs": [
        {
          "output_type": "execute_result",
          "data": {
            "text/plain": [
              "array([[1.0141631]], dtype=float32)"
            ]
          },
          "metadata": {
            "tags": []
          },
          "execution_count": 92
        }
      ]
    },
    {
      "cell_type": "code",
      "metadata": {
        "id": "PO8eB67QjVIV",
        "colab_type": "code",
        "colab": {}
      },
      "source": [
        ""
      ],
      "execution_count": 0,
      "outputs": []
    }
  ]
}